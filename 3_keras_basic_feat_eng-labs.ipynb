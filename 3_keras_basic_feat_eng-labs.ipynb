{
 "cells": [
  {
   "cell_type": "markdown",
   "metadata": {
    "colab_type": "text",
    "id": "rNdWfPXCjTjY"
   },
   "source": [
    "# Performing Basic Feature Engineering in Keras \n",
    "\n",
    "\n",
    "\n"
   ]
  },
  {
   "cell_type": "markdown",
   "metadata": {
    "colab_type": "text",
    "id": "VxyBFc_kKazA"
   },
   "source": [
    "Start by importing the necessary libraries for this lab."
   ]
  },
  {
   "cell_type": "code",
   "execution_count": 1,
   "metadata": {
    "tags": []
   },
   "outputs": [],
   "source": [
    "!sudo chown -R jupyter:jupyter /home/jupyter/training-data-analyst"
   ]
  },
  {
   "cell_type": "code",
   "execution_count": 2,
   "metadata": {
    "tags": []
   },
   "outputs": [
    {
     "name": "stdout",
     "output_type": "stream",
     "text": [
      "Requirement already satisfied: scikit-learn in /opt/conda/envs/tensorflow/lib/python3.10/site-packages (1.5.2)\n",
      "Requirement already satisfied: numpy>=1.19.5 in /opt/conda/envs/tensorflow/lib/python3.10/site-packages (from scikit-learn) (1.24.4)\n",
      "Requirement already satisfied: scipy>=1.6.0 in /opt/conda/envs/tensorflow/lib/python3.10/site-packages (from scikit-learn) (1.13.1)\n",
      "Requirement already satisfied: joblib>=1.2.0 in /opt/conda/envs/tensorflow/lib/python3.10/site-packages (from scikit-learn) (1.4.2)\n",
      "Requirement already satisfied: threadpoolctl>=3.1.0 in /opt/conda/envs/tensorflow/lib/python3.10/site-packages (from scikit-learn) (3.5.0)\n"
     ]
    }
   ],
   "source": [
    "# Install Sklearn\n",
    "!python3 -m pip install --user scikit-learn"
   ]
  },
  {
   "cell_type": "markdown",
   "metadata": {
    "id": "hhq5zEbGg0XX"
   },
   "source": [
    "### Restart the kernel\n",
    "\n",
    "After you install the packages, you need to restart the notebook kernel so that it can find the packages. (Click **Kernel > Restart Kernel > Restart**)."
   ]
  },
  {
   "cell_type": "code",
   "execution_count": 50,
   "metadata": {
    "colab": {},
    "colab_type": "code",
    "id": "9dEreb4QKizj",
    "tags": []
   },
   "outputs": [
    {
     "name": "stdout",
     "output_type": "stream",
     "text": [
      "TensorFlow version:  2.11.0\n"
     ]
    }
   ],
   "source": [
    "import os\n",
    "import tensorflow.keras\n",
    "\n",
    "import matplotlib.pyplot as plt\n",
    "import pandas as pd\n",
    "import tensorflow as tf\n",
    "\n",
    "from tensorflow import feature_column as fc\n",
    "from tensorflow.keras import layers\n",
    "from sklearn.model_selection import train_test_split\n",
    "#from keras.utils import plot_model\n",
    "\n",
    "print(\"TensorFlow version: \",tf.version.VERSION)"
   ]
  },
  {
   "cell_type": "markdown",
   "metadata": {},
   "source": [
    "Many of the Google Machine Learning Courses Programming Exercises use the  [California Housing Dataset](https://developers.google.com/machine-learning/crash-course/california-housing-data-description\n",
    "), which contains data drawn from the 1990 U.S. Census.  Our lab dataset has been pre-processed so that there are no missing values.\n",
    "\n",
    "First, let's download the raw .csv data by copying the data from a cloud storage bucket.\n"
   ]
  },
  {
   "cell_type": "code",
   "execution_count": 51,
   "metadata": {
    "tags": []
   },
   "outputs": [],
   "source": [
    "if not os.path.isdir(\"../data\"):\n",
    "    os.makedirs(\"../data\")"
   ]
  },
  {
   "cell_type": "code",
   "execution_count": 52,
   "metadata": {
    "tags": []
   },
   "outputs": [
    {
     "name": "stdout",
     "output_type": "stream",
     "text": [
      "Copying gs://cloud-training/mlongcp/v3.0_MLonGC/toy_data/housing_pre-proc_toy.csv...\n",
      "/ [1 files][138.8 KiB/138.8 KiB]                                                \n",
      "Operation completed over 1 objects/138.8 KiB.                                    \n"
     ]
    }
   ],
   "source": [
    "!gsutil cp gs://cloud-training/mlongcp/v3.0_MLonGC/toy_data/housing_pre-proc_toy.csv ../data    "
   ]
  },
  {
   "cell_type": "code",
   "execution_count": 53,
   "metadata": {
    "tags": []
   },
   "outputs": [
    {
     "name": "stdout",
     "output_type": "stream",
     "text": [
      "total 280\n",
      "-rw-r--r-- 1 jupyter jupyter  28081 Oct 28 13:01 housing-test.csv\n",
      "-rw-r--r-- 1 jupyter jupyter  89571 Oct 28 13:01 housing-train.csv\n",
      "-rw-r--r-- 1 jupyter jupyter  22457 Oct 28 13:01 housing-val.csv\n",
      "-rw-r--r-- 1 jupyter jupyter 142150 Oct 28 13:42 housing_pre-proc_toy.csv\n"
     ]
    }
   ],
   "source": [
    "!ls -l ../data/"
   ]
  },
  {
   "cell_type": "markdown",
   "metadata": {
    "colab_type": "text",
    "id": "lM6-n6xntv3t"
   },
   "source": [
    "Now, let's read in the dataset just copied from the cloud storage bucket and create a Pandas dataframe."
   ]
  },
  {
   "cell_type": "code",
   "execution_count": 54,
   "metadata": {
    "colab": {
     "base_uri": "https://localhost:8080/",
     "height": 222
    },
    "colab_type": "code",
    "id": "REZ57BXCLdfG",
    "outputId": "a6ef2eda-c7eb-4e2d-92e4-e7fcaa20b0af",
    "tags": []
   },
   "outputs": [
    {
     "data": {
      "text/html": [
       "<div>\n",
       "<style scoped>\n",
       "    .dataframe tbody tr th:only-of-type {\n",
       "        vertical-align: middle;\n",
       "    }\n",
       "\n",
       "    .dataframe tbody tr th {\n",
       "        vertical-align: top;\n",
       "    }\n",
       "\n",
       "    .dataframe thead th {\n",
       "        text-align: right;\n",
       "    }\n",
       "</style>\n",
       "<table border=\"1\" class=\"dataframe\">\n",
       "  <thead>\n",
       "    <tr style=\"text-align: right;\">\n",
       "      <th></th>\n",
       "      <th>longitude</th>\n",
       "      <th>latitude</th>\n",
       "      <th>housing_median_age</th>\n",
       "      <th>total_rooms</th>\n",
       "      <th>total_bedrooms</th>\n",
       "      <th>population</th>\n",
       "      <th>households</th>\n",
       "      <th>median_income</th>\n",
       "      <th>median_house_value</th>\n",
       "      <th>ocean_proximity</th>\n",
       "    </tr>\n",
       "  </thead>\n",
       "  <tbody>\n",
       "    <tr>\n",
       "      <th>0</th>\n",
       "      <td>-122.23</td>\n",
       "      <td>37.88</td>\n",
       "      <td>41</td>\n",
       "      <td>880</td>\n",
       "      <td>129</td>\n",
       "      <td>322</td>\n",
       "      <td>126</td>\n",
       "      <td>8.3252</td>\n",
       "      <td>452600</td>\n",
       "      <td>NEAR BAY</td>\n",
       "    </tr>\n",
       "    <tr>\n",
       "      <th>1</th>\n",
       "      <td>-122.22</td>\n",
       "      <td>37.86</td>\n",
       "      <td>21</td>\n",
       "      <td>7099</td>\n",
       "      <td>1106</td>\n",
       "      <td>2401</td>\n",
       "      <td>1138</td>\n",
       "      <td>8.3014</td>\n",
       "      <td>358500</td>\n",
       "      <td>NEAR BAY</td>\n",
       "    </tr>\n",
       "    <tr>\n",
       "      <th>2</th>\n",
       "      <td>-122.24</td>\n",
       "      <td>37.85</td>\n",
       "      <td>52</td>\n",
       "      <td>1467</td>\n",
       "      <td>190</td>\n",
       "      <td>496</td>\n",
       "      <td>177</td>\n",
       "      <td>7.2574</td>\n",
       "      <td>352100</td>\n",
       "      <td>NEAR BAY</td>\n",
       "    </tr>\n",
       "    <tr>\n",
       "      <th>3</th>\n",
       "      <td>-122.25</td>\n",
       "      <td>37.85</td>\n",
       "      <td>52</td>\n",
       "      <td>1274</td>\n",
       "      <td>235</td>\n",
       "      <td>558</td>\n",
       "      <td>219</td>\n",
       "      <td>5.6431</td>\n",
       "      <td>341300</td>\n",
       "      <td>NEAR BAY</td>\n",
       "    </tr>\n",
       "    <tr>\n",
       "      <th>4</th>\n",
       "      <td>-122.25</td>\n",
       "      <td>37.85</td>\n",
       "      <td>52</td>\n",
       "      <td>1627</td>\n",
       "      <td>280</td>\n",
       "      <td>565</td>\n",
       "      <td>259</td>\n",
       "      <td>3.8462</td>\n",
       "      <td>342200</td>\n",
       "      <td>NEAR BAY</td>\n",
       "    </tr>\n",
       "  </tbody>\n",
       "</table>\n",
       "</div>"
      ],
      "text/plain": [
       "   longitude  latitude  housing_median_age  total_rooms  total_bedrooms  \\\n",
       "0    -122.23     37.88                  41          880             129   \n",
       "1    -122.22     37.86                  21         7099            1106   \n",
       "2    -122.24     37.85                  52         1467             190   \n",
       "3    -122.25     37.85                  52         1274             235   \n",
       "4    -122.25     37.85                  52         1627             280   \n",
       "\n",
       "   population  households  median_income  median_house_value ocean_proximity  \n",
       "0         322         126         8.3252              452600        NEAR BAY  \n",
       "1        2401        1138         8.3014              358500        NEAR BAY  \n",
       "2         496         177         7.2574              352100        NEAR BAY  \n",
       "3         558         219         5.6431              341300        NEAR BAY  \n",
       "4         565         259         3.8462              342200        NEAR BAY  "
      ]
     },
     "execution_count": 54,
     "metadata": {},
     "output_type": "execute_result"
    }
   ],
   "source": [
    "housing_df = pd.read_csv('../data/housing_pre-proc_toy.csv', on_bad_lines='skip')\n",
    "housing_df.head()"
   ]
  },
  {
   "cell_type": "markdown",
   "metadata": {},
   "source": [
    "We can use .describe() to see some summary statistics for the numeric fields in our dataframe. Note, for example, the count row and corresponding columns. The count shows 2500.000000 for all feature columns. Thus, there are no missing values."
   ]
  },
  {
   "cell_type": "code",
   "execution_count": 55,
   "metadata": {
    "tags": []
   },
   "outputs": [
    {
     "data": {
      "text/html": [
       "<div>\n",
       "<style scoped>\n",
       "    .dataframe tbody tr th:only-of-type {\n",
       "        vertical-align: middle;\n",
       "    }\n",
       "\n",
       "    .dataframe tbody tr th {\n",
       "        vertical-align: top;\n",
       "    }\n",
       "\n",
       "    .dataframe thead th {\n",
       "        text-align: right;\n",
       "    }\n",
       "</style>\n",
       "<table border=\"1\" class=\"dataframe\">\n",
       "  <thead>\n",
       "    <tr style=\"text-align: right;\">\n",
       "      <th></th>\n",
       "      <th>longitude</th>\n",
       "      <th>latitude</th>\n",
       "      <th>housing_median_age</th>\n",
       "      <th>total_rooms</th>\n",
       "      <th>total_bedrooms</th>\n",
       "      <th>population</th>\n",
       "      <th>households</th>\n",
       "      <th>median_income</th>\n",
       "      <th>median_house_value</th>\n",
       "    </tr>\n",
       "  </thead>\n",
       "  <tbody>\n",
       "    <tr>\n",
       "      <th>count</th>\n",
       "      <td>2500.000000</td>\n",
       "      <td>2500.000000</td>\n",
       "      <td>2500.000000</td>\n",
       "      <td>2500.000000</td>\n",
       "      <td>2500.000000</td>\n",
       "      <td>2500.000000</td>\n",
       "      <td>2500.000000</td>\n",
       "      <td>2500.000000</td>\n",
       "      <td>2500.000000</td>\n",
       "    </tr>\n",
       "    <tr>\n",
       "      <th>mean</th>\n",
       "      <td>-121.501836</td>\n",
       "      <td>37.802288</td>\n",
       "      <td>30.088400</td>\n",
       "      <td>2522.734000</td>\n",
       "      <td>491.862400</td>\n",
       "      <td>1246.225200</td>\n",
       "      <td>458.122000</td>\n",
       "      <td>3.694312</td>\n",
       "      <td>170288.731200</td>\n",
       "    </tr>\n",
       "    <tr>\n",
       "      <th>std</th>\n",
       "      <td>1.015963</td>\n",
       "      <td>0.803090</td>\n",
       "      <td>13.878416</td>\n",
       "      <td>1988.411988</td>\n",
       "      <td>362.499497</td>\n",
       "      <td>925.075463</td>\n",
       "      <td>341.744308</td>\n",
       "      <td>1.859422</td>\n",
       "      <td>97550.278529</td>\n",
       "    </tr>\n",
       "    <tr>\n",
       "      <th>min</th>\n",
       "      <td>-124.300000</td>\n",
       "      <td>36.130000</td>\n",
       "      <td>2.000000</td>\n",
       "      <td>12.000000</td>\n",
       "      <td>4.000000</td>\n",
       "      <td>18.000000</td>\n",
       "      <td>2.000000</td>\n",
       "      <td>0.499900</td>\n",
       "      <td>22500.000000</td>\n",
       "    </tr>\n",
       "    <tr>\n",
       "      <th>25%</th>\n",
       "      <td>-122.200000</td>\n",
       "      <td>37.600000</td>\n",
       "      <td>18.000000</td>\n",
       "      <td>1420.750000</td>\n",
       "      <td>282.000000</td>\n",
       "      <td>718.000000</td>\n",
       "      <td>263.000000</td>\n",
       "      <td>2.357875</td>\n",
       "      <td>92950.000000</td>\n",
       "    </tr>\n",
       "    <tr>\n",
       "      <th>50%</th>\n",
       "      <td>-122.030000</td>\n",
       "      <td>37.800000</td>\n",
       "      <td>30.000000</td>\n",
       "      <td>2052.000000</td>\n",
       "      <td>402.000000</td>\n",
       "      <td>1030.500000</td>\n",
       "      <td>374.500000</td>\n",
       "      <td>3.262200</td>\n",
       "      <td>150800.000000</td>\n",
       "    </tr>\n",
       "    <tr>\n",
       "      <th>75%</th>\n",
       "      <td>-120.697500</td>\n",
       "      <td>37.960000</td>\n",
       "      <td>41.000000</td>\n",
       "      <td>3007.250000</td>\n",
       "      <td>581.250000</td>\n",
       "      <td>1488.250000</td>\n",
       "      <td>538.000000</td>\n",
       "      <td>4.662975</td>\n",
       "      <td>219650.000000</td>\n",
       "    </tr>\n",
       "    <tr>\n",
       "      <th>max</th>\n",
       "      <td>-118.910000</td>\n",
       "      <td>41.950000</td>\n",
       "      <td>52.000000</td>\n",
       "      <td>28258.000000</td>\n",
       "      <td>3864.000000</td>\n",
       "      <td>12203.000000</td>\n",
       "      <td>3701.000000</td>\n",
       "      <td>15.000100</td>\n",
       "      <td>500001.000000</td>\n",
       "    </tr>\n",
       "  </tbody>\n",
       "</table>\n",
       "</div>"
      ],
      "text/plain": [
       "         longitude     latitude  housing_median_age   total_rooms  \\\n",
       "count  2500.000000  2500.000000         2500.000000   2500.000000   \n",
       "mean   -121.501836    37.802288           30.088400   2522.734000   \n",
       "std       1.015963     0.803090           13.878416   1988.411988   \n",
       "min    -124.300000    36.130000            2.000000     12.000000   \n",
       "25%    -122.200000    37.600000           18.000000   1420.750000   \n",
       "50%    -122.030000    37.800000           30.000000   2052.000000   \n",
       "75%    -120.697500    37.960000           41.000000   3007.250000   \n",
       "max    -118.910000    41.950000           52.000000  28258.000000   \n",
       "\n",
       "       total_bedrooms    population   households  median_income  \\\n",
       "count     2500.000000   2500.000000  2500.000000    2500.000000   \n",
       "mean       491.862400   1246.225200   458.122000       3.694312   \n",
       "std        362.499497    925.075463   341.744308       1.859422   \n",
       "min          4.000000     18.000000     2.000000       0.499900   \n",
       "25%        282.000000    718.000000   263.000000       2.357875   \n",
       "50%        402.000000   1030.500000   374.500000       3.262200   \n",
       "75%        581.250000   1488.250000   538.000000       4.662975   \n",
       "max       3864.000000  12203.000000  3701.000000      15.000100   \n",
       "\n",
       "       median_house_value  \n",
       "count         2500.000000  \n",
       "mean        170288.731200  \n",
       "std          97550.278529  \n",
       "min          22500.000000  \n",
       "25%          92950.000000  \n",
       "50%         150800.000000  \n",
       "75%         219650.000000  \n",
       "max         500001.000000  "
      ]
     },
     "execution_count": 55,
     "metadata": {},
     "output_type": "execute_result"
    }
   ],
   "source": [
    "housing_df.describe()"
   ]
  },
  {
   "cell_type": "markdown",
   "metadata": {
    "colab_type": "text",
    "id": "u0zhLtQqMPem"
   },
   "source": [
    "####  Split the dataset for ML\n",
    "\n",
    "The dataset we loaded was a single CSV file. We will split this into train, validation, and test sets.\n"
   ]
  },
  {
   "cell_type": "code",
   "execution_count": 56,
   "metadata": {
    "colab": {
     "base_uri": "https://localhost:8080/",
     "height": 69
    },
    "colab_type": "code",
    "id": "YEOpw7LhMYsI",
    "outputId": "6161a660-7133-465a-d754-d7acae2b68c8",
    "tags": []
   },
   "outputs": [
    {
     "name": "stdout",
     "output_type": "stream",
     "text": [
      "1600 train examples\n",
      "400 validation examples\n",
      "500 test examples\n"
     ]
    }
   ],
   "source": [
    "train, test = train_test_split(housing_df, test_size=0.2)\n",
    "train, val = train_test_split(train, test_size=0.2)\n",
    "\n",
    "print(len(train), 'train examples')\n",
    "print(len(val), 'validation examples')\n",
    "print(len(test), 'test examples')"
   ]
  },
  {
   "cell_type": "markdown",
   "metadata": {
    "colab_type": "text",
    "id": "dz9kfjOMBX9U"
   },
   "source": [
    "Now, we need to output the split files.  We will specifically need the test.csv later for testing.  You should see the files appear in the home directory.\n"
   ]
  },
  {
   "cell_type": "code",
   "execution_count": 57,
   "metadata": {
    "colab": {
     "base_uri": "https://localhost:8080/",
     "height": 222
    },
    "colab_type": "code",
    "id": "ADX23QUu_Wiu",
    "outputId": "e97fa59e-4ed4-48a3-8fba-c95f293944ee",
    "tags": []
   },
   "outputs": [],
   "source": [
    "train.to_csv('../data/housing-train.csv', encoding='utf-8', index=False)"
   ]
  },
  {
   "cell_type": "code",
   "execution_count": 58,
   "metadata": {
    "tags": []
   },
   "outputs": [],
   "source": [
    "val.to_csv('../data/housing-val.csv', encoding='utf-8', index=False)"
   ]
  },
  {
   "cell_type": "code",
   "execution_count": 59,
   "metadata": {
    "colab": {
     "base_uri": "https://localhost:8080/",
     "height": 222
    },
    "colab_type": "code",
    "id": "CU1FgmKEAmWh",
    "outputId": "2cce91e1-2c4a-4fe8-a6c3-3da52cb9458f",
    "tags": []
   },
   "outputs": [],
   "source": [
    "test.to_csv('../data/housing-test.csv', encoding='utf-8', index=False)"
   ]
  },
  {
   "cell_type": "code",
   "execution_count": 60,
   "metadata": {
    "tags": []
   },
   "outputs": [
    {
     "name": "stdout",
     "output_type": "stream",
     "text": [
      "==> ../data/housing-test.csv <==\n",
      "longitude,latitude,housing_median_age,total_rooms,total_bedrooms,population,households,median_income,median_house_value,ocean_proximity\n",
      "-121.79,38.01,17,4032,814,1749,618,3.1728,146800,INLAND\n",
      "-119.76,36.74,52,2137,448,1194,444,1.3029,69100,INLAND\n",
      "-119.83,36.78,35,1789,357,933,357,2.5223,66200,INLAND\n",
      "-122.29,37.86,52,1665,404,815,372,1.9946,156900,NEAR BAY\n",
      "-121.85,37.72,43,228,40,83,42,10.3203,400000,INLAND\n",
      "-121.8,39.33,30,1019,192,501,185,2.5259,81300,INLAND\n",
      "-122.26,37.98,28,2038,329,947,349,5.1178,198000,NEAR BAY\n",
      "-119.85,36.78,8,3096,684,1454,545,2.7857,79700,INLAND\n",
      "-122.2,37.9,36,2107,287,740,280,10.3416,500001,NEAR BAY\n",
      "\n",
      "==> ../data/housing-train.csv <==\n",
      "longitude,latitude,housing_median_age,total_rooms,total_bedrooms,population,households,median_income,median_house_value,ocean_proximity\n",
      "-122.28,37.87,46,1777,446,805,431,2.8676,212000,NEAR BAY\n",
      "-119.74,36.8,18,10862,2401,5466,2209,2.4678,74300,INLAND\n",
      "-122.34,37.93,32,2389,652,1672,584,1.4423,88300,NEAR BAY\n",
      "-119.73,36.8,24,1316,249,781,260,3.7578,69200,INLAND\n",
      "-122.1,37.66,36,1305,225,768,234,4.275,185300,NEAR BAY\n",
      "-119.95,36.8,30,1233,214,620,199,3.4297,112500,INLAND\n",
      "-122.18,39.75,30,4157,834,1885,774,1.6948,67500,INLAND\n",
      "-122.23,37.77,52,772,179,409,160,3.3214,189600,NEAR BAY\n",
      "-121.92,38.02,16,1840,355,1288,338,4.2067,125000,INLAND\n",
      "\n",
      "==> ../data/housing-val.csv <==\n",
      "longitude,latitude,housing_median_age,total_rooms,total_bedrooms,population,households,median_income,median_house_value,ocean_proximity\n",
      "-119.69,36.69,36,1432,269,836,237,2.1563,88300,INLAND\n",
      "-121.98,38.05,31,2810,518,1640,503,3.3661,98500,INLAND\n",
      "-121.85,39.77,17,5273,1177,2446,1199,1.9362,89900,INLAND\n",
      "-122.14,37.77,27,2229,365,1297,355,4.8304,279100,NEAR BAY\n",
      "-122.03,37.93,21,4712,624,1773,615,6.0918,344800,NEAR BAY\n",
      "-122.32,37.92,22,1119,220,565,199,3.3594,186900,NEAR BAY\n",
      "-119.69,36.46,29,1702,301,914,280,2.8125,79200,INLAND\n",
      "-119.82,36.78,36,1582,313,761,318,2.6055,69200,INLAND\n",
      "-120.0,38.87,12,1437,268,395,144,4.225,127600,INLAND\n",
      "\n",
      "==> ../data/housing_pre-proc_toy.csv <==\n",
      "longitude,latitude,housing_median_age,total_rooms,total_bedrooms,population,households,median_income,median_house_value,ocean_proximity\n",
      "-122.23,37.88,41,880,129,322,126,8.3252,452600,NEAR BAY\n",
      "-122.22,37.86,21,7099,1106,2401,1138,8.3014,358500,NEAR BAY\n",
      "-122.24,37.85,52,1467,190,496,177,7.2574,352100,NEAR BAY\n",
      "-122.25,37.85,52,1274,235,558,219,5.6431,341300,NEAR BAY\n",
      "-122.25,37.85,52,1627,280,565,259,3.8462,342200,NEAR BAY\n",
      "-122.25,37.85,52,919,213,413,193,4.0368,269700,NEAR BAY\n",
      "-122.25,37.84,52,2535,489,1094,514,3.6591,299200,NEAR BAY\n",
      "-122.25,37.84,52,3104,687,1157,647,3.12,241400,NEAR BAY\n",
      "-122.26,37.84,42,2555,665,1206,595,2.0804,226700,NEAR BAY\n"
     ]
    }
   ],
   "source": [
    "!head ../data/housing*.csv"
   ]
  },
  {
   "cell_type": "markdown",
   "metadata": {
    "colab_type": "text",
    "id": "Aj35eYy_lutI"
   },
   "source": [
    "## Lab Task 1: Create an input pipeline using tf.data"
   ]
  },
  {
   "cell_type": "markdown",
   "metadata": {
    "colab_type": "text",
    "id": "84ef46LXMfvu"
   },
   "source": [
    "Next, we will wrap the dataframes with [tf.data](https://www.tensorflow.org/guide/datasets). This will enable us  to use feature columns as a bridge to map from the columns in the Pandas dataframe to features used to train the model. \n",
    "\n",
    "Here, we create an input pipeline using tf.data.  This function is missing two lines.  Correct and run the cell."
   ]
  },
  {
   "cell_type": "code",
   "execution_count": 61,
   "metadata": {
    "tags": []
   },
   "outputs": [],
   "source": [
    "# A utility method to create a tf.data dataset from a Pandas Dataframe\n",
    "# TODO 1a\n",
    "def df_to_dataset(dataframe, shuffle=True, batch_size=32):\n",
    "    dataframe = dataframe.copy()\n",
    "    labels = dataframe.pop('median_house_value')\n",
    "    ds = tf.data.Dataset.from_tensor_slices((dict(dataframe), labels))\n",
    "    if shuffle:\n",
    "        ds = ds.shuffle(buffer_size=len(dataframe))\n",
    "    ds = ds.batch(batch_size)\n",
    "    return ds"
   ]
  },
  {
   "cell_type": "markdown",
   "metadata": {},
   "source": [
    "Next we initialize the training and validation datasets."
   ]
  },
  {
   "cell_type": "code",
   "execution_count": 63,
   "metadata": {
    "tags": []
   },
   "outputs": [],
   "source": [
    "batch_size = 32\n",
    "train_ds = df_to_dataset(train)\n",
    "val_ds = df_to_dataset(val, shuffle=False, batch_size=batch_size)"
   ]
  },
  {
   "cell_type": "markdown",
   "metadata": {
    "colab_type": "text",
    "id": "qRLGSMDzM-dl"
   },
   "source": [
    "Now that we have created the input pipeline, let's call it to see the format of the data it returns. We have used a small batch size to keep the output readable."
   ]
  },
  {
   "cell_type": "code",
   "execution_count": 64,
   "metadata": {
    "colab": {
     "base_uri": "https://localhost:8080/",
     "height": 331
    },
    "colab_type": "code",
    "id": "CSBo3dUVNFc9",
    "outputId": "d1be2646-b1e5-4110-dbba-5bc49d9b30f6",
    "tags": []
   },
   "outputs": [
    {
     "name": "stdout",
     "output_type": "stream",
     "text": [
      "Every feature: ['longitude', 'latitude', 'housing_median_age', 'total_rooms', 'total_bedrooms', 'population', 'households', 'median_income', 'ocean_proximity']\n",
      "A batch of households: tf.Tensor(\n",
      "[ 540  426  365  463  640  418  239  100  257  392  723  207  603 2125\n",
      "  268  774  621  230 1136  991  382  432  275  558  298  267  368  737\n",
      "  542  613  195  233], shape=(32,), dtype=int64)\n",
      "A batch of ocean_proximity: tf.Tensor(\n",
      "[b'INLAND' b'INLAND' b'NEAR BAY' b'INLAND' b'INLAND' b'INLAND' b'NEAR BAY'\n",
      " b'NEAR BAY' b'NEAR BAY' b'NEAR BAY' b'NEAR BAY' b'INLAND' b'INLAND'\n",
      " b'INLAND' b'INLAND' b'INLAND' b'NEAR BAY' b'NEAR BAY' b'<1H OCEAN'\n",
      " b'INLAND' b'INLAND' b'<1H OCEAN' b'INLAND' b'INLAND' b'INLAND' b'INLAND'\n",
      " b'INLAND' b'INLAND' b'INLAND' b'INLAND' b'NEAR BAY' b'NEAR BAY'], shape=(32,), dtype=string)\n",
      "A batch of targets: tf.Tensor(\n",
      "[ 97300  54200 218800 110900 293200  48300  93800 156300 171100 127900\n",
      " 455300  58000 134800 192400 119300 156700 284900 219000 339700  89500\n",
      "  53400 256400  39400 152500  79700  68900  79700  45100 160100 154700\n",
      " 125000  87500], shape=(32,), dtype=int64)\n"
     ]
    }
   ],
   "source": [
    "# TODO 1b\n",
    "for feature_batch, label_batch in train_ds.take(1):\n",
    "    print('Every feature:', list(feature_batch.keys()))\n",
    "    print('A batch of households:', feature_batch['households'])\n",
    "    print('A batch of ocean_proximity:', feature_batch['ocean_proximity'])\n",
    "    print('A batch of targets:', label_batch)"
   ]
  },
  {
   "cell_type": "markdown",
   "metadata": {
    "colab_type": "text",
    "id": "OT5N6Se-NQsC"
   },
   "source": [
    "We can see that the dataset returns a dictionary of column names (from the dataframe) that map to column values from rows in the dataframe."
   ]
  },
  {
   "cell_type": "markdown",
   "metadata": {
    "colab_type": "text",
    "id": "YEGEAqaziwfC"
   },
   "source": [
    "#### Numeric columns\n",
    "The output of a feature column becomes the input to the model. A numeric is the simplest type of column. It is used to represent real valued features. When using this column, your model will receive the column value from the dataframe unchanged.\n",
    "\n",
    "In the California housing prices dataset, most columns from the dataframe are numeric.  Let' create a variable called **numeric_cols** to hold only the numerical feature columns."
   ]
  },
  {
   "cell_type": "code",
   "execution_count": 75,
   "metadata": {
    "tags": []
   },
   "outputs": [],
   "source": [
    "# TODO 1c -- Your code here\n",
    "numeric_cols = ['longitude', 'latitude', 'housing_median_age', 'total_rooms',\n",
    "                'total_bedrooms', 'population', 'households', 'median_income']"
   ]
  },
  {
   "cell_type": "markdown",
   "metadata": {
    "colab_type": "text",
    "id": "EwMEcH_52JT8"
   },
   "source": [
    "#### Scaler function\n",
    "It is very important for numerical variables to get scaled before they are \"fed\" into the neural network. Here we use min-max scaling. Here we are creating a function named 'get_scal' which takes a list of numerical features and returns a 'minmax' function, which will be used in tf.feature_column.numeric_column() as normalizer_fn in parameters. 'Minmax' function itself takes a 'numerical' number from a particular feature and return scaled value of that number. "
   ]
  },
  {
   "cell_type": "markdown",
   "metadata": {
    "colab_type": "text",
    "id": "ig1k5ovWBnN8"
   },
   "source": [
    "Next, we scale the numerical feature columns that we assigned to the variable \"numeric cols\"."
   ]
  },
  {
   "cell_type": "code",
   "execution_count": 76,
   "metadata": {
    "tags": []
   },
   "outputs": [],
   "source": [
    "# 'get_scal' function takes a list of numerical features and returns a 'minmax' function\n",
    "# 'Minmax' function itself takes a 'numerical' number from a particular feature and return scaled value of that number.\n",
    "# Scalar def get_scal(feature):\n",
    "# TODO 1d\n",
    "def get_scal(feature):\n",
    "    def minmax(x):\n",
    "        mini = train[feature].min()\n",
    "        maxi = train[feature].max()\n",
    "        return (x - mini)/(maxi-mini)\n",
    "        return(minmax)"
   ]
  },
  {
   "cell_type": "code",
   "execution_count": 77,
   "metadata": {
    "colab": {},
    "colab_type": "code",
    "id": "Y8IUfcuVaS_g",
    "tags": []
   },
   "outputs": [],
   "source": [
    "# TODO 1e\n",
    "feature_columns = []\n",
    "for header in numeric_cols:\n",
    "    scal_input_fn = get_scal(header)\n",
    "    feature_columns.append(fc.numeric_column(header,\n",
    "                                             normalizer_fn=scal_input_fn))"
   ]
  },
  {
   "cell_type": "markdown",
   "metadata": {
    "colab_type": "text",
    "id": "8v9XoD7WCKRM"
   },
   "source": [
    "Next, we should validate the total number of feature columns.  Compare this number to the number of numeric features you input earlier."
   ]
  },
  {
   "cell_type": "code",
   "execution_count": 78,
   "metadata": {
    "colab": {
     "base_uri": "https://localhost:8080/",
     "height": 34
    },
    "colab_type": "code",
    "id": "4jgPFThi50sS",
    "outputId": "23ede6f5-a62a-4767-b3a6-fe8a3b89a212",
    "tags": []
   },
   "outputs": [
    {
     "name": "stdout",
     "output_type": "stream",
     "text": [
      "Total number of feature coLumns:  8\n"
     ]
    }
   ],
   "source": [
    "print('Total number of feature coLumns: ', len(feature_columns))"
   ]
  },
  {
   "cell_type": "markdown",
   "metadata": {
    "colab_type": "text",
    "id": "9Ug3hB8Sl0jO"
   },
   "source": [
    "### Using the Keras Sequential Model\n",
    "\n",
    "Next, we will run this cell to compile and fit the Keras Sequential model."
   ]
  },
  {
   "cell_type": "code",
   "execution_count": 79,
   "metadata": {
    "colab": {
     "base_uri": "https://localhost:8080/",
     "height": 1000
    },
    "colab_type": "code",
    "id": "_YJPPb3xTPeZ",
    "outputId": "2d445722-1d43-4a27-a6c0-c6ce813ab450",
    "tags": []
   },
   "outputs": [
    {
     "name": "stdout",
     "output_type": "stream",
     "text": [
      "Epoch 1/32\n",
      "WARNING:tensorflow:Layers in a Sequential model should only have a single input tensor. Received: inputs={'longitude': <tf.Tensor 'IteratorGetNext:3' shape=(None,) dtype=float64>, 'latitude': <tf.Tensor 'IteratorGetNext:2' shape=(None,) dtype=float64>, 'housing_median_age': <tf.Tensor 'IteratorGetNext:1' shape=(None,) dtype=int64>, 'total_rooms': <tf.Tensor 'IteratorGetNext:8' shape=(None,) dtype=int64>, 'total_bedrooms': <tf.Tensor 'IteratorGetNext:7' shape=(None,) dtype=int64>, 'population': <tf.Tensor 'IteratorGetNext:6' shape=(None,) dtype=int64>, 'households': <tf.Tensor 'IteratorGetNext:0' shape=(None,) dtype=int64>, 'median_income': <tf.Tensor 'IteratorGetNext:4' shape=(None,) dtype=float64>, 'ocean_proximity': <tf.Tensor 'IteratorGetNext:5' shape=(None,) dtype=string>}. Consider rewriting this model with the Functional API.\n",
      "WARNING:tensorflow:Layers in a Sequential model should only have a single input tensor. Received: inputs={'longitude': <tf.Tensor 'IteratorGetNext:3' shape=(None,) dtype=float64>, 'latitude': <tf.Tensor 'IteratorGetNext:2' shape=(None,) dtype=float64>, 'housing_median_age': <tf.Tensor 'IteratorGetNext:1' shape=(None,) dtype=int64>, 'total_rooms': <tf.Tensor 'IteratorGetNext:8' shape=(None,) dtype=int64>, 'total_bedrooms': <tf.Tensor 'IteratorGetNext:7' shape=(None,) dtype=int64>, 'population': <tf.Tensor 'IteratorGetNext:6' shape=(None,) dtype=int64>, 'households': <tf.Tensor 'IteratorGetNext:0' shape=(None,) dtype=int64>, 'median_income': <tf.Tensor 'IteratorGetNext:4' shape=(None,) dtype=float64>, 'ocean_proximity': <tf.Tensor 'IteratorGetNext:5' shape=(None,) dtype=string>}. Consider rewriting this model with the Functional API.\n",
      "44/50 [=========================>....] - ETA: 0s - loss: 38470717440.0000 - mse: 38470717440.0000 WARNING:tensorflow:Layers in a Sequential model should only have a single input tensor. Received: inputs={'longitude': <tf.Tensor 'IteratorGetNext:3' shape=(None,) dtype=float64>, 'latitude': <tf.Tensor 'IteratorGetNext:2' shape=(None,) dtype=float64>, 'housing_median_age': <tf.Tensor 'IteratorGetNext:1' shape=(None,) dtype=int64>, 'total_rooms': <tf.Tensor 'IteratorGetNext:8' shape=(None,) dtype=int64>, 'total_bedrooms': <tf.Tensor 'IteratorGetNext:7' shape=(None,) dtype=int64>, 'population': <tf.Tensor 'IteratorGetNext:6' shape=(None,) dtype=int64>, 'households': <tf.Tensor 'IteratorGetNext:0' shape=(None,) dtype=int64>, 'median_income': <tf.Tensor 'IteratorGetNext:4' shape=(None,) dtype=float64>, 'ocean_proximity': <tf.Tensor 'IteratorGetNext:5' shape=(None,) dtype=string>}. Consider rewriting this model with the Functional API.\n",
      "50/50 [==============================] - 4s 9ms/step - loss: 38354526208.0000 - mse: 38354526208.0000 - val_loss: 38602166272.0000 - val_mse: 38602166272.0000\n",
      "Epoch 2/32\n",
      "50/50 [==============================] - 0s 4ms/step - loss: 38125338624.0000 - mse: 38125338624.0000 - val_loss: 38392791040.0000 - val_mse: 38392791040.0000\n",
      "Epoch 3/32\n",
      "50/50 [==============================] - 0s 3ms/step - loss: 37741150208.0000 - mse: 37741150208.0000 - val_loss: 37887115264.0000 - val_mse: 37887115264.0000\n",
      "Epoch 4/32\n",
      "50/50 [==============================] - 0s 3ms/step - loss: 36982865920.0000 - mse: 36982865920.0000 - val_loss: 37041790976.0000 - val_mse: 37041790976.0000\n",
      "Epoch 5/32\n",
      "50/50 [==============================] - 0s 3ms/step - loss: 35807711232.0000 - mse: 35807711232.0000 - val_loss: 35752980480.0000 - val_mse: 35752980480.0000\n",
      "Epoch 6/32\n",
      "50/50 [==============================] - 0s 3ms/step - loss: 34089181184.0000 - mse: 34089181184.0000 - val_loss: 33956671488.0000 - val_mse: 33956671488.0000\n",
      "Epoch 7/32\n",
      "50/50 [==============================] - 0s 3ms/step - loss: 31793164288.0000 - mse: 31793164288.0000 - val_loss: 31664510976.0000 - val_mse: 31664510976.0000\n",
      "Epoch 8/32\n",
      "50/50 [==============================] - 0s 3ms/step - loss: 29000755200.0000 - mse: 29000755200.0000 - val_loss: 28962115584.0000 - val_mse: 28962115584.0000\n",
      "Epoch 9/32\n",
      "50/50 [==============================] - 0s 3ms/step - loss: 25884942336.0000 - mse: 25884942336.0000 - val_loss: 26046656512.0000 - val_mse: 26046656512.0000\n",
      "Epoch 10/32\n",
      "50/50 [==============================] - 0s 3ms/step - loss: 22728818688.0000 - mse: 22728818688.0000 - val_loss: 23271778304.0000 - val_mse: 23271778304.0000\n",
      "Epoch 11/32\n",
      "50/50 [==============================] - 0s 4ms/step - loss: 19916009472.0000 - mse: 19916009472.0000 - val_loss: 20833591296.0000 - val_mse: 20833591296.0000\n",
      "Epoch 12/32\n",
      "50/50 [==============================] - 0s 3ms/step - loss: 17712154624.0000 - mse: 17712154624.0000 - val_loss: 19022000128.0000 - val_mse: 19022000128.0000\n",
      "Epoch 13/32\n",
      "50/50 [==============================] - 0s 3ms/step - loss: 16253294592.0000 - mse: 16253294592.0000 - val_loss: 17915396096.0000 - val_mse: 17915396096.0000\n",
      "Epoch 14/32\n",
      "50/50 [==============================] - 0s 3ms/step - loss: 15440038912.0000 - mse: 15440038912.0000 - val_loss: 17251571712.0000 - val_mse: 17251571712.0000\n",
      "Epoch 15/32\n",
      "50/50 [==============================] - 0s 3ms/step - loss: 15054644224.0000 - mse: 15054644224.0000 - val_loss: 16936462336.0000 - val_mse: 16936462336.0000\n",
      "Epoch 16/32\n",
      "50/50 [==============================] - 0s 4ms/step - loss: 14895960064.0000 - mse: 14895960064.0000 - val_loss: 16766758912.0000 - val_mse: 16766758912.0000\n",
      "Epoch 17/32\n",
      "50/50 [==============================] - 0s 4ms/step - loss: 14808866816.0000 - mse: 14808866816.0000 - val_loss: 16669277184.0000 - val_mse: 16669277184.0000\n",
      "Epoch 18/32\n",
      "50/50 [==============================] - 0s 4ms/step - loss: 14769764352.0000 - mse: 14769764352.0000 - val_loss: 16594558976.0000 - val_mse: 16594558976.0000\n",
      "Epoch 19/32\n",
      "50/50 [==============================] - 0s 4ms/step - loss: 14754522112.0000 - mse: 14754522112.0000 - val_loss: 16541599744.0000 - val_mse: 16541599744.0000\n",
      "Epoch 20/32\n",
      "50/50 [==============================] - 0s 4ms/step - loss: 14723534848.0000 - mse: 14723534848.0000 - val_loss: 16530605056.0000 - val_mse: 16530605056.0000\n",
      "Epoch 21/32\n",
      "50/50 [==============================] - 0s 4ms/step - loss: 14695404544.0000 - mse: 14695404544.0000 - val_loss: 16513307648.0000 - val_mse: 16513307648.0000\n",
      "Epoch 22/32\n",
      "50/50 [==============================] - 0s 4ms/step - loss: 14668121088.0000 - mse: 14668121088.0000 - val_loss: 16457326592.0000 - val_mse: 16457326592.0000\n",
      "Epoch 23/32\n",
      "50/50 [==============================] - 0s 3ms/step - loss: 14643084288.0000 - mse: 14643084288.0000 - val_loss: 16447458304.0000 - val_mse: 16447458304.0000\n",
      "Epoch 24/32\n",
      "50/50 [==============================] - 0s 4ms/step - loss: 14622341120.0000 - mse: 14622341120.0000 - val_loss: 16431045632.0000 - val_mse: 16431045632.0000\n",
      "Epoch 25/32\n",
      "50/50 [==============================] - 0s 3ms/step - loss: 14613169152.0000 - mse: 14613169152.0000 - val_loss: 16384474112.0000 - val_mse: 16384474112.0000\n",
      "Epoch 26/32\n",
      "50/50 [==============================] - 0s 3ms/step - loss: 14569504768.0000 - mse: 14569504768.0000 - val_loss: 16375274496.0000 - val_mse: 16375274496.0000\n",
      "Epoch 27/32\n",
      "50/50 [==============================] - 0s 3ms/step - loss: 14545531904.0000 - mse: 14545531904.0000 - val_loss: 16352982016.0000 - val_mse: 16352982016.0000\n",
      "Epoch 28/32\n",
      "50/50 [==============================] - 0s 3ms/step - loss: 14526139392.0000 - mse: 14526139392.0000 - val_loss: 16311782400.0000 - val_mse: 16311782400.0000\n",
      "Epoch 29/32\n",
      "50/50 [==============================] - 0s 3ms/step - loss: 14508194816.0000 - mse: 14508194816.0000 - val_loss: 16290064384.0000 - val_mse: 16290064384.0000\n",
      "Epoch 30/32\n",
      "50/50 [==============================] - 0s 3ms/step - loss: 14477303808.0000 - mse: 14477303808.0000 - val_loss: 16242143232.0000 - val_mse: 16242143232.0000\n",
      "Epoch 31/32\n",
      "50/50 [==============================] - 0s 3ms/step - loss: 14454686720.0000 - mse: 14454686720.0000 - val_loss: 16249777152.0000 - val_mse: 16249777152.0000\n",
      "Epoch 32/32\n",
      "50/50 [==============================] - 0s 3ms/step - loss: 14432871424.0000 - mse: 14432871424.0000 - val_loss: 16207561728.0000 - val_mse: 16207561728.0000\n"
     ]
    }
   ],
   "source": [
    "# Model create\n",
    "# `tf.keras.layers.DenseFeatures()` is a layer that produces a dense Tensor based on given feature_columns.\n",
    "feature_layer = tf.keras.layers.DenseFeatures(feature_columns, dtype='float64')\n",
    "\n",
    "# `tf.keras.Sequential()` groups a linear stack of layers into a tf.keras.Model.\n",
    "model = tf.keras.Sequential([\n",
    "  feature_layer,\n",
    "  layers.Dense(12, input_dim=8, activation='relu'),\n",
    "  layers.Dense(8, activation='relu'),\n",
    "  layers.Dense(1, activation='linear',  name='median_house_value')\n",
    "])\n",
    "\n",
    "# Model compile\n",
    "model.compile(optimizer='adam',\n",
    "              loss='mse',\n",
    "              metrics=['mse'])\n",
    "\n",
    "# Model Fit\n",
    "history = model.fit(train_ds,\n",
    "                    validation_data=val_ds,\n",
    "                    epochs=32)"
   ]
  },
  {
   "cell_type": "markdown",
   "metadata": {},
   "source": [
    "Next we show loss as  Mean Square Error (MSE).  Remember that MSE is the most commonly used regression loss function. MSE is the sum of squared distances between our target variable (e.g. housing median age) and predicted values."
   ]
  },
  {
   "cell_type": "code",
   "execution_count": 80,
   "metadata": {
    "colab": {
     "base_uri": "https://localhost:8080/",
     "height": 71
    },
    "colab_type": "code",
    "id": "vo7hhkPqm6Jx",
    "outputId": "938907f6-b6c8-497c-a8f6-0f1cdbf336c9",
    "tags": []
   },
   "outputs": [
    {
     "name": "stdout",
     "output_type": "stream",
     "text": [
      "50/50 [==============================] - 0s 2ms/step - loss: 14399831040.0000 - mse: 14399831040.0000\n",
      "Mean Squared Error 14399831040.0\n"
     ]
    }
   ],
   "source": [
    "loss, mse = model.evaluate(train_ds)\n",
    "print(\"Mean Squared Error\", mse)"
   ]
  },
  {
   "cell_type": "markdown",
   "metadata": {
    "colab_type": "text",
    "id": "252EPxGp7-FJ"
   },
   "source": [
    "#### Visualize the model loss curve\n",
    "\n",
    "Next, we will use matplotlib to draw the model's loss curves for training and validation.  A line plot is also created showing the mean squared error loss over the training epochs for both the train (blue) and test (orange) sets."
   ]
  },
  {
   "cell_type": "code",
   "execution_count": 81,
   "metadata": {
    "tags": []
   },
   "outputs": [],
   "source": [
    "def plot_curves(history, metrics):\n",
    "    nrows = 1\n",
    "    ncols = 2\n",
    "    fig = plt.figure(figsize=(10, 5))\n",
    "\n",
    "    for idx, key in enumerate(metrics):  \n",
    "        ax = fig.add_subplot(nrows, ncols, idx+1)\n",
    "        plt.plot(history.history[key])\n",
    "        plt.plot(history.history['val_{}'.format(key)])\n",
    "        plt.title('model {}'.format(key))\n",
    "        plt.ylabel(key)\n",
    "        plt.xlabel('epoch')\n",
    "        plt.legend(['train', 'validation'], loc='upper left');  "
   ]
  },
  {
   "cell_type": "code",
   "execution_count": 82,
   "metadata": {
    "tags": []
   },
   "outputs": [
    {
     "data": {
      "image/png": "[encoded data removed]",
      "text/plain": [
       "<Figure size 1000x500 with 2 Axes>"
      ]
     },
     "metadata": {},
     "output_type": "display_data"
    }
   ],
   "source": [
    "plot_curves(history, ['loss', 'mse'])"
   ]
  },
  {
   "cell_type": "markdown",
   "metadata": {
    "colab_type": "text",
    "id": "wqkozY268xi7"
   },
   "source": [
    "### Load test data"
   ]
  },
  {
   "cell_type": "markdown",
   "metadata": {
    "colab_type": "text",
    "id": "uf4TyVJ_Dzxe"
   },
   "source": [
    "Next, we read in the test.csv file and validate that there are no null values.  "
   ]
  },
  {
   "cell_type": "markdown",
   "metadata": {},
   "source": [
    "Again, we can use .describe() to see some summary statistics for the numeric fields in our dataframe.  The count shows 500.000000 for all feature columns. Thus, there are no missing values."
   ]
  },
  {
   "cell_type": "code",
   "execution_count": 83,
   "metadata": {
    "colab": {
     "base_uri": "https://localhost:8080/",
     "height": 222
    },
    "colab_type": "code",
    "id": "b4C4BmhV8ch9",
    "outputId": "82bcc9d3-4432-4068-ab82-6a6abbe4a024",
    "tags": []
   },
   "outputs": [
    {
     "data": {
      "text/html": [
       "<div>\n",
       "<style scoped>\n",
       "    .dataframe tbody tr th:only-of-type {\n",
       "        vertical-align: middle;\n",
       "    }\n",
       "\n",
       "    .dataframe tbody tr th {\n",
       "        vertical-align: top;\n",
       "    }\n",
       "\n",
       "    .dataframe thead th {\n",
       "        text-align: right;\n",
       "    }\n",
       "</style>\n",
       "<table border=\"1\" class=\"dataframe\">\n",
       "  <thead>\n",
       "    <tr style=\"text-align: right;\">\n",
       "      <th></th>\n",
       "      <th>longitude</th>\n",
       "      <th>latitude</th>\n",
       "      <th>housing_median_age</th>\n",
       "      <th>total_rooms</th>\n",
       "      <th>total_bedrooms</th>\n",
       "      <th>population</th>\n",
       "      <th>households</th>\n",
       "      <th>median_income</th>\n",
       "      <th>median_house_value</th>\n",
       "    </tr>\n",
       "  </thead>\n",
       "  <tbody>\n",
       "    <tr>\n",
       "      <th>count</th>\n",
       "      <td>500.000000</td>\n",
       "      <td>500.000000</td>\n",
       "      <td>500.000000</td>\n",
       "      <td>500.000000</td>\n",
       "      <td>500.000000</td>\n",
       "      <td>500.000000</td>\n",
       "      <td>500.000000</td>\n",
       "      <td>500.000000</td>\n",
       "      <td>500.000000</td>\n",
       "    </tr>\n",
       "    <tr>\n",
       "      <th>mean</th>\n",
       "      <td>-121.501280</td>\n",
       "      <td>37.763320</td>\n",
       "      <td>30.442000</td>\n",
       "      <td>2605.808000</td>\n",
       "      <td>513.398000</td>\n",
       "      <td>1313.230000</td>\n",
       "      <td>478.270000</td>\n",
       "      <td>3.707110</td>\n",
       "      <td>171252.212000</td>\n",
       "    </tr>\n",
       "    <tr>\n",
       "      <th>std</th>\n",
       "      <td>0.999848</td>\n",
       "      <td>0.738551</td>\n",
       "      <td>14.204019</td>\n",
       "      <td>2235.958782</td>\n",
       "      <td>415.099601</td>\n",
       "      <td>1074.253347</td>\n",
       "      <td>391.754556</td>\n",
       "      <td>1.882725</td>\n",
       "      <td>97688.283158</td>\n",
       "    </tr>\n",
       "    <tr>\n",
       "      <th>min</th>\n",
       "      <td>-124.300000</td>\n",
       "      <td>36.190000</td>\n",
       "      <td>2.000000</td>\n",
       "      <td>44.000000</td>\n",
       "      <td>6.000000</td>\n",
       "      <td>23.000000</td>\n",
       "      <td>11.000000</td>\n",
       "      <td>0.536000</td>\n",
       "      <td>37900.000000</td>\n",
       "    </tr>\n",
       "    <tr>\n",
       "      <th>25%</th>\n",
       "      <td>-122.200000</td>\n",
       "      <td>37.570000</td>\n",
       "      <td>18.750000</td>\n",
       "      <td>1463.750000</td>\n",
       "      <td>273.000000</td>\n",
       "      <td>724.000000</td>\n",
       "      <td>260.750000</td>\n",
       "      <td>2.424600</td>\n",
       "      <td>93725.000000</td>\n",
       "    </tr>\n",
       "    <tr>\n",
       "      <th>50%</th>\n",
       "      <td>-122.030000</td>\n",
       "      <td>37.785000</td>\n",
       "      <td>30.000000</td>\n",
       "      <td>1999.500000</td>\n",
       "      <td>399.000000</td>\n",
       "      <td>1015.000000</td>\n",
       "      <td>368.500000</td>\n",
       "      <td>3.267950</td>\n",
       "      <td>150500.000000</td>\n",
       "    </tr>\n",
       "    <tr>\n",
       "      <th>75%</th>\n",
       "      <td>-120.670000</td>\n",
       "      <td>37.960000</td>\n",
       "      <td>43.000000</td>\n",
       "      <td>2889.000000</td>\n",
       "      <td>605.000000</td>\n",
       "      <td>1507.250000</td>\n",
       "      <td>545.250000</td>\n",
       "      <td>4.717025</td>\n",
       "      <td>226425.000000</td>\n",
       "    </tr>\n",
       "    <tr>\n",
       "      <th>max</th>\n",
       "      <td>-118.940000</td>\n",
       "      <td>41.840000</td>\n",
       "      <td>52.000000</td>\n",
       "      <td>20354.000000</td>\n",
       "      <td>3493.000000</td>\n",
       "      <td>8768.000000</td>\n",
       "      <td>3293.000000</td>\n",
       "      <td>12.213800</td>\n",
       "      <td>500001.000000</td>\n",
       "    </tr>\n",
       "  </tbody>\n",
       "</table>\n",
       "</div>"
      ],
      "text/plain": [
       "        longitude    latitude  housing_median_age   total_rooms  \\\n",
       "count  500.000000  500.000000          500.000000    500.000000   \n",
       "mean  -121.501280   37.763320           30.442000   2605.808000   \n",
       "std      0.999848    0.738551           14.204019   2235.958782   \n",
       "min   -124.300000   36.190000            2.000000     44.000000   \n",
       "25%   -122.200000   37.570000           18.750000   1463.750000   \n",
       "50%   -122.030000   37.785000           30.000000   1999.500000   \n",
       "75%   -120.670000   37.960000           43.000000   2889.000000   \n",
       "max   -118.940000   41.840000           52.000000  20354.000000   \n",
       "\n",
       "       total_bedrooms   population   households  median_income  \\\n",
       "count      500.000000   500.000000   500.000000     500.000000   \n",
       "mean       513.398000  1313.230000   478.270000       3.707110   \n",
       "std        415.099601  1074.253347   391.754556       1.882725   \n",
       "min          6.000000    23.000000    11.000000       0.536000   \n",
       "25%        273.000000   724.000000   260.750000       2.424600   \n",
       "50%        399.000000  1015.000000   368.500000       3.267950   \n",
       "75%        605.000000  1507.250000   545.250000       4.717025   \n",
       "max       3493.000000  8768.000000  3293.000000      12.213800   \n",
       "\n",
       "       median_house_value  \n",
       "count          500.000000  \n",
       "mean        171252.212000  \n",
       "std          97688.283158  \n",
       "min          37900.000000  \n",
       "25%          93725.000000  \n",
       "50%         150500.000000  \n",
       "75%         226425.000000  \n",
       "max         500001.000000  "
      ]
     },
     "execution_count": 83,
     "metadata": {},
     "output_type": "execute_result"
    }
   ],
   "source": [
    "test_data = pd.read_csv('../data/housing-test.csv')\n",
    "test_data.describe()"
   ]
  },
  {
   "cell_type": "markdown",
   "metadata": {
    "colab_type": "text",
    "id": "nY2Yrt8fC7RW"
   },
   "source": [
    "Now that we have created an input pipeline using tf.data and compiled a Keras Sequential Model, we now create the input function for the test data and to initialize the test_predict variable."
   ]
  },
  {
   "cell_type": "code",
   "execution_count": 85,
   "metadata": {
    "colab": {},
    "colab_type": "code",
    "id": "8rMdDeGDCwpT",
    "tags": []
   },
   "outputs": [],
   "source": [
    "# TODO 1f\n",
    "def test_input_fn(features, batch_size=256):\n",
    "    \"\"\"An input function for prediction.\"\"\"\n",
    "    # Convert the inputs to a Dataset without labels.\n",
    "    return tf.data.Dataset.from_tensor_slices(dict(features)).batch(batch_size)"
   ]
  },
  {
   "cell_type": "code",
   "execution_count": 86,
   "metadata": {
    "tags": []
   },
   "outputs": [],
   "source": [
    "test_predict = test_input_fn(dict(test_data))"
   ]
  },
  {
   "cell_type": "markdown",
   "metadata": {
    "colab_type": "text",
    "id": "H5SkINtbDIdr"
   },
   "source": [
    "#### Prediction:  Linear Regression\n",
    "\n",
    "Before we begin to feature engineer our feature columns, we should predict the median house value.  By predicting the median house value now, we can then compare it with the median house value after feature engineering.\n",
    "\n",
    "To predict with Keras, you simply call [model.predict()](https://keras.io/models/model/#predict) and pass in the housing features you want to predict the median_house_value for. Note:  We are predicting the model locally."
   ]
  },
  {
   "cell_type": "code",
   "execution_count": 87,
   "metadata": {
    "colab": {},
    "colab_type": "code",
    "id": "uNc6TSoJDL7-",
    "tags": []
   },
   "outputs": [
    {
     "name": "stdout",
     "output_type": "stream",
     "text": [
      "WARNING:tensorflow:Layers in a Sequential model should only have a single input tensor. Received: inputs={'longitude': <tf.Tensor 'IteratorGetNext:3' shape=(None,) dtype=float64>, 'latitude': <tf.Tensor 'IteratorGetNext:2' shape=(None,) dtype=float64>, 'housing_median_age': <tf.Tensor 'IteratorGetNext:1' shape=(None,) dtype=int64>, 'total_rooms': <tf.Tensor 'IteratorGetNext:9' shape=(None,) dtype=int64>, 'total_bedrooms': <tf.Tensor 'IteratorGetNext:8' shape=(None,) dtype=int64>, 'population': <tf.Tensor 'IteratorGetNext:7' shape=(None,) dtype=int64>, 'households': <tf.Tensor 'IteratorGetNext:0' shape=(None,) dtype=int64>, 'median_income': <tf.Tensor 'IteratorGetNext:5' shape=(None,) dtype=float64>, 'median_house_value': <tf.Tensor 'IteratorGetNext:4' shape=(None,) dtype=int64>, 'ocean_proximity': <tf.Tensor 'IteratorGetNext:6' shape=(None,) dtype=string>}. Consider rewriting this model with the Functional API.\n",
      "2/2 [==============================] - 0s 5ms/step\n"
     ]
    }
   ],
   "source": [
    "predicted_median_house_value = model.predict(test_predict)"
   ]
  },
  {
   "cell_type": "markdown",
   "metadata": {
    "colab_type": "text",
    "id": "HFXK1SKPDYgD"
   },
   "source": [
    "Next, we run two predictions in separate cells - one where ocean_proximity=INLAND and one where ocean_proximity= NEAR OCEAN. "
   ]
  },
  {
   "cell_type": "code",
   "execution_count": 88,
   "metadata": {
    "colab": {
     "base_uri": "https://localhost:8080/",
     "height": 34
    },
    "colab_type": "code",
    "id": "xepss0vhoHge",
    "outputId": "46842a26-eacd-4801-857b-18c6a8f2005c",
    "tags": []
   },
   "outputs": [
    {
     "name": "stdout",
     "output_type": "stream",
     "text": [
      "WARNING:tensorflow:Layers in a Sequential model should only have a single input tensor. Received: inputs={'longitude': <tf.Tensor 'IteratorGetNext:3' shape=(1,) dtype=float32>, 'latitude': <tf.Tensor 'IteratorGetNext:2' shape=(1,) dtype=float32>, 'housing_median_age': <tf.Tensor 'IteratorGetNext:1' shape=(1,) dtype=float32>, 'total_rooms': <tf.Tensor 'IteratorGetNext:8' shape=(1,) dtype=float32>, 'total_bedrooms': <tf.Tensor 'IteratorGetNext:7' shape=(1,) dtype=float32>, 'population': <tf.Tensor 'IteratorGetNext:6' shape=(1,) dtype=float32>, 'households': <tf.Tensor 'IteratorGetNext:0' shape=(1,) dtype=float32>, 'median_income': <tf.Tensor 'IteratorGetNext:4' shape=(1,) dtype=float32>, 'ocean_proximity': <tf.Tensor 'IteratorGetNext:5' shape=(1,) dtype=string>}. Consider rewriting this model with the Functional API.\n",
      "1/1 [==============================] - 0s 246ms/step\n"
     ]
    },
    {
     "data": {
      "text/plain": [
       "array([[365941.88]], dtype=float32)"
      ]
     },
     "execution_count": 88,
     "metadata": {},
     "output_type": "execute_result"
    }
   ],
   "source": [
    "# Ocean_proximity is INLAND\n",
    "model.predict({\n",
    "    'longitude': tf.convert_to_tensor([-121.86]),\n",
    "    'latitude': tf.convert_to_tensor([39.78]),\n",
    "    'housing_median_age': tf.convert_to_tensor([12.0]),\n",
    "    'total_rooms': tf.convert_to_tensor([7653.0]),\n",
    "    'total_bedrooms': tf.convert_to_tensor([1578.0]),\n",
    "    'population': tf.convert_to_tensor([3628.0]),\n",
    "    'households': tf.convert_to_tensor([1494.0]),\n",
    "    'median_income': tf.convert_to_tensor([3.0905]),\n",
    "    'ocean_proximity': tf.convert_to_tensor(['INLAND'])\n",
    "}, steps=1)"
   ]
  },
  {
   "cell_type": "code",
   "execution_count": 89,
   "metadata": {
    "colab": {
     "base_uri": "https://localhost:8080/",
     "height": 34
    },
    "colab_type": "code",
    "id": "qPssm8p4EZHh",
    "outputId": "2a55d427-7857-401c-f60d-edbb36be19ec",
    "tags": []
   },
   "outputs": [
    {
     "name": "stdout",
     "output_type": "stream",
     "text": [
      "1/1 [==============================] - 0s 32ms/step\n"
     ]
    },
    {
     "data": {
      "text/plain": [
       "array([[200443.81]], dtype=float32)"
      ]
     },
     "execution_count": 89,
     "metadata": {},
     "output_type": "execute_result"
    }
   ],
   "source": [
    "# Ocean_proximity is NEAR OCEAN\n",
    "model.predict({\n",
    "    'longitude': tf.convert_to_tensor([-122.43]),\n",
    "    'latitude': tf.convert_to_tensor([37.63]),\n",
    "    'housing_median_age': tf.convert_to_tensor([34.0]),\n",
    "    'total_rooms': tf.convert_to_tensor([4135.0]),\n",
    "    'total_bedrooms': tf.convert_to_tensor([687.0]),\n",
    "    'population': tf.convert_to_tensor([2154.0]),\n",
    "    'households': tf.convert_to_tensor([742.0]),\n",
    "    'median_income': tf.convert_to_tensor([4.9732]),\n",
    "    'ocean_proximity': tf.convert_to_tensor(['NEAR OCEAN'])\n",
    "}, steps=1)"
   ]
  },
  {
   "cell_type": "markdown",
   "metadata": {
    "colab_type": "text",
    "id": "Txl-MRuLFE_8"
   },
   "source": [
    "The arrays returns a predicted value.  What do these numbers mean?  Let's compare this value to the test set.  \n",
    "\n",
    "Go to the test.csv you read in a few cells up.  Locate the first line and find the median_house_value - which should be 249,000 dollars near the ocean. What value did your model predicted for the median_house_value? Was it a solid model performance? Let's see if we can improve this a bit with feature engineering!  \n"
   ]
  },
  {
   "cell_type": "markdown",
   "metadata": {},
   "source": [
    "## Lab Task 2: Engineer features to create categorical and numerical features"
   ]
  },
  {
   "cell_type": "markdown",
   "metadata": {
    "colab_type": "text",
    "id": "78F1XH1Qwvbt"
   },
   "source": [
    "Now we create a cell that indicates which features will be used in the model.  \n",
    "Note:  Be sure to bucketize 'housing_median_age' and ensure that 'ocean_proximity' is one-hot encoded.  And, don't forget your numeric values!"
   ]
  },
  {
   "cell_type": "code",
   "execution_count": 91,
   "metadata": {
    "colab": {},
    "colab_type": "code",
    "id": "ZxSatLUxUmvI",
    "tags": []
   },
   "outputs": [],
   "source": [
    "# TODO 2a\n",
    "numeric_cols = ['longitude', 'latitude', 'housing_median_age', 'total_rooms',\n",
    "                'total_bedrooms', 'population', 'households', 'median_income']\n",
    "\n",
    "bucketized_cols = ['housing_median_age']\n",
    "\n",
    "# indicator columns,Categorical features\n",
    "categorical_cols = ['ocean_proximity']"
   ]
  },
  {
   "cell_type": "markdown",
   "metadata": {
    "colab_type": "text",
    "id": "5HbypkYHxxwt"
   },
   "source": [
    "Next, we scale the numerical, bucktized, and categorical feature columns that we assigned to the variables in the preceding cell."
   ]
  },
  {
   "cell_type": "code",
   "execution_count": 92,
   "metadata": {
    "colab": {},
    "colab_type": "code",
    "id": "ExX5Akz0UnE-",
    "tags": []
   },
   "outputs": [],
   "source": [
    "# Scalar def get_scal(feature):\n",
    "def get_scal(feature):\n",
    "    def minmax(x):\n",
    "        mini = train[feature].min()\n",
    "        maxi = train[feature].max()\n",
    "        return (x - mini)/(maxi-mini)\n",
    "        return(minmax)"
   ]
  },
  {
   "cell_type": "code",
   "execution_count": 93,
   "metadata": {
    "colab": {},
    "colab_type": "code",
    "id": "wzqcddUQUnKn",
    "tags": []
   },
   "outputs": [],
   "source": [
    "# All numerical features - scaling\n",
    "feature_columns = []\n",
    "for header in numeric_cols:\n",
    "    scal_input_fn = get_scal(header)\n",
    "    feature_columns.append(fc.numeric_column(header,\n",
    "                                             normalizer_fn=scal_input_fn))"
   ]
  },
  {
   "cell_type": "markdown",
   "metadata": {
    "colab_type": "text",
    "id": "yYUpUZvgwrPe"
   },
   "source": [
    "### Categorical Feature\n",
    "In this dataset, 'ocean_proximity' is represented as a string.  We cannot feed strings directly to a model. Instead, we must first map them to numeric values. The categorical vocabulary columns provide a way to represent strings as a one-hot vector."
   ]
  },
  {
   "cell_type": "markdown",
   "metadata": {
    "colab_type": "text",
    "id": "sZnlnFZkyEbe"
   },
   "source": [
    "Next, we create a categorical feature using 'ocean_proximity'."
   ]
  },
  {
   "cell_type": "code",
   "execution_count": 94,
   "metadata": {
    "colab": {},
    "colab_type": "code",
    "id": "3Cf6SoFTUnc6",
    "tags": []
   },
   "outputs": [],
   "source": [
    "# TODO 2b -- Your code here\n",
    "for feature_name in categorical_cols:\n",
    "    vocabulary = housing_df[feature_name].unique()\n",
    "    categorical_c = fc.categorical_column_with_vocabulary_list(feature_name, vocabulary)\n",
    "    one_hot = fc.indicator_column(categorical_c)\n",
    "    feature_columns.append(one_hot)"
   ]
  },
  {
   "cell_type": "markdown",
   "metadata": {
    "colab_type": "text",
    "id": "qnGyWaijzShj"
   },
   "source": [
    "### Bucketized Feature\n",
    "\n",
    "Often, you don't want to feed a number directly into the model, but instead split its value into different categories based on numerical ranges. Consider our raw data that represents a homes' age. Instead of representing the house age as a numeric column, we could split the home age into several buckets using a [bucketized column](https://www.tensorflow.org/api_docs/python/tf/feature_column/bucketized_column). Notice the one-hot values below describe which age range each row matches."
   ]
  },
  {
   "cell_type": "markdown",
   "metadata": {
    "colab_type": "text",
    "id": "7ZRlFyP7fOw-"
   },
   "source": [
    "Next we create a bucketized column using 'housing_median_age'\n"
   ]
  },
  {
   "cell_type": "code",
   "execution_count": 95,
   "metadata": {
    "colab": {},
    "colab_type": "code",
    "id": "xB-yiVLmUnXp",
    "tags": []
   },
   "outputs": [],
   "source": [
    "# TODO 2c -- Your code here\n",
    "age = fc.numeric_column(\"housing_median_age\")\n",
    "\n",
    "# Bucketized cols\n",
    "age_buckets = fc.bucketized_column(age, boundaries=[10, 20, 30, 40, 50, 60, 80, 100])\n",
    "feature_columns.append(age_buckets)"
   ]
  },
  {
   "cell_type": "markdown",
   "metadata": {
    "colab_type": "text",
    "id": "Ri4_wssOg943"
   },
   "source": [
    "### Feature Cross\n",
    "\n",
    "Combining features into a single feature, better known as [feature crosses](https://developers.google.com/machine-learning/glossary/#feature_cross), enables a model to learn separate weights for each combination of features."
   ]
  },
  {
   "cell_type": "markdown",
   "metadata": {
    "colab_type": "text",
    "id": "a6HHJl3J0j0T"
   },
   "source": [
    "Next, we create a feature cross of 'housing_median_age' and 'ocean_proximity'."
   ]
  },
  {
   "cell_type": "code",
   "execution_count": 96,
   "metadata": {
    "colab": {},
    "colab_type": "code",
    "id": "JVLnG0WbUnkl",
    "tags": []
   },
   "outputs": [],
   "source": [
    "# TODO 2d -- Your code here\n",
    "vocabulary = housing_df['ocean_proximity'].unique()\n",
    "ocean_proximity = fc.categorical_column_with_vocabulary_list('ocean_proximity',\n",
    "                                                             vocabulary)\n",
    "\n",
    "crossed_feature = fc.crossed_column([age_buckets, ocean_proximity],\n",
    "                                    hash_bucket_size=1000)\n",
    "crossed_feature = fc.indicator_column(crossed_feature)\n",
    "feature_columns.append(crossed_feature)"
   ]
  },
  {
   "cell_type": "markdown",
   "metadata": {
    "colab_type": "text",
    "id": "hiz6HCWg1CXO"
   },
   "source": [
    "Next, we should validate the total number of feature columns.  Compare this number to the number of numeric features you input earlier."
   ]
  },
  {
   "cell_type": "code",
   "execution_count": 97,
   "metadata": {
    "colab": {
     "base_uri": "https://localhost:8080/",
     "height": 34
    },
    "colab_type": "code",
    "id": "6P3Ewc3_Unsv",
    "outputId": "42c1c4a6-89f8-4685-b2d0-e76a90cdf9ee",
    "tags": []
   },
   "outputs": [
    {
     "name": "stdout",
     "output_type": "stream",
     "text": [
      "Total number of feature columns:  11\n"
     ]
    }
   ],
   "source": [
    "print('Total number of feature columns: ', len(feature_columns))"
   ]
  },
  {
   "cell_type": "markdown",
   "metadata": {
    "colab_type": "text",
    "id": "lNr00mP41sJp"
   },
   "source": [
    "Next, we will run this cell to compile and fit the Keras Sequential model.  This is the same model we ran earlier."
   ]
  },
  {
   "cell_type": "code",
   "execution_count": 98,
   "metadata": {
    "colab": {
     "base_uri": "https://localhost:8080/",
     "height": 1000
    },
    "colab_type": "code",
    "id": "4Dwal3oxUoCe",
    "outputId": "1ae08747-7dbe-47a5-b3e7-87581e460b1b",
    "tags": []
   },
   "outputs": [
    {
     "name": "stdout",
     "output_type": "stream",
     "text": [
      "Epoch 1/32\n",
      "WARNING:tensorflow:Layers in a Sequential model should only have a single input tensor. Received: inputs={'longitude': <tf.Tensor 'IteratorGetNext:3' shape=(None,) dtype=float64>, 'latitude': <tf.Tensor 'IteratorGetNext:2' shape=(None,) dtype=float64>, 'housing_median_age': <tf.Tensor 'IteratorGetNext:1' shape=(None,) dtype=int64>, 'total_rooms': <tf.Tensor 'IteratorGetNext:8' shape=(None,) dtype=int64>, 'total_bedrooms': <tf.Tensor 'IteratorGetNext:7' shape=(None,) dtype=int64>, 'population': <tf.Tensor 'IteratorGetNext:6' shape=(None,) dtype=int64>, 'households': <tf.Tensor 'IteratorGetNext:0' shape=(None,) dtype=int64>, 'median_income': <tf.Tensor 'IteratorGetNext:4' shape=(None,) dtype=float64>, 'ocean_proximity': <tf.Tensor 'IteratorGetNext:5' shape=(None,) dtype=string>}. Consider rewriting this model with the Functional API.\n",
      "WARNING:tensorflow:Layers in a Sequential model should only have a single input tensor. Received: inputs={'longitude': <tf.Tensor 'IteratorGetNext:3' shape=(None,) dtype=float64>, 'latitude': <tf.Tensor 'IteratorGetNext:2' shape=(None,) dtype=float64>, 'housing_median_age': <tf.Tensor 'IteratorGetNext:1' shape=(None,) dtype=int64>, 'total_rooms': <tf.Tensor 'IteratorGetNext:8' shape=(None,) dtype=int64>, 'total_bedrooms': <tf.Tensor 'IteratorGetNext:7' shape=(None,) dtype=int64>, 'population': <tf.Tensor 'IteratorGetNext:6' shape=(None,) dtype=int64>, 'households': <tf.Tensor 'IteratorGetNext:0' shape=(None,) dtype=int64>, 'median_income': <tf.Tensor 'IteratorGetNext:4' shape=(None,) dtype=float64>, 'ocean_proximity': <tf.Tensor 'IteratorGetNext:5' shape=(None,) dtype=string>}. Consider rewriting this model with the Functional API.\n",
      "34/50 [===================>..........] - ETA: 0s - loss: 37238575104.0000 - mse: 37238575104.0000 WARNING:tensorflow:Layers in a Sequential model should only have a single input tensor. Received: inputs={'longitude': <tf.Tensor 'IteratorGetNext:3' shape=(None,) dtype=float64>, 'latitude': <tf.Tensor 'IteratorGetNext:2' shape=(None,) dtype=float64>, 'housing_median_age': <tf.Tensor 'IteratorGetNext:1' shape=(None,) dtype=int64>, 'total_rooms': <tf.Tensor 'IteratorGetNext:8' shape=(None,) dtype=int64>, 'total_bedrooms': <tf.Tensor 'IteratorGetNext:7' shape=(None,) dtype=int64>, 'population': <tf.Tensor 'IteratorGetNext:6' shape=(None,) dtype=int64>, 'households': <tf.Tensor 'IteratorGetNext:0' shape=(None,) dtype=int64>, 'median_income': <tf.Tensor 'IteratorGetNext:4' shape=(None,) dtype=float64>, 'ocean_proximity': <tf.Tensor 'IteratorGetNext:5' shape=(None,) dtype=string>}. Consider rewriting this model with the Functional API.\n",
      "50/50 [==============================] - 2s 9ms/step - loss: 38178648064.0000 - mse: 38178648064.0000 - val_loss: 38413123584.0000 - val_mse: 38413123584.0000\n",
      "Epoch 2/32\n",
      "50/50 [==============================] - 0s 4ms/step - loss: 37781245952.0000 - mse: 37781245952.0000 - val_loss: 37933465600.0000 - val_mse: 37933465600.0000\n",
      "Epoch 3/32\n",
      "50/50 [==============================] - 0s 4ms/step - loss: 37059629056.0000 - mse: 37059629056.0000 - val_loss: 37101445120.0000 - val_mse: 37101445120.0000\n",
      "Epoch 4/32\n",
      "50/50 [==============================] - 0s 4ms/step - loss: 35888709632.0000 - mse: 35888709632.0000 - val_loss: 35823341568.0000 - val_mse: 35823341568.0000\n",
      "Epoch 5/32\n",
      "50/50 [==============================] - 0s 4ms/step - loss: 34177673216.0000 - mse: 34177673216.0000 - val_loss: 34040899584.0000 - val_mse: 34040899584.0000\n",
      "Epoch 6/32\n",
      "50/50 [==============================] - 0s 4ms/step - loss: 31912189952.0000 - mse: 31912189952.0000 - val_loss: 31777112064.0000 - val_mse: 31777112064.0000\n",
      "Epoch 7/32\n",
      "50/50 [==============================] - 0s 4ms/step - loss: 29175007232.0000 - mse: 29175007232.0000 - val_loss: 29120088064.0000 - val_mse: 29120088064.0000\n",
      "Epoch 8/32\n",
      "50/50 [==============================] - 0s 4ms/step - loss: 26118230016.0000 - mse: 26118230016.0000 - val_loss: 26324054016.0000 - val_mse: 26324054016.0000\n",
      "Epoch 9/32\n",
      "50/50 [==============================] - 0s 4ms/step - loss: 23072694272.0000 - mse: 23072694272.0000 - val_loss: 23563442176.0000 - val_mse: 23563442176.0000\n",
      "Epoch 10/32\n",
      "50/50 [==============================] - 0s 4ms/step - loss: 20286072832.0000 - mse: 20286072832.0000 - val_loss: 21204107264.0000 - val_mse: 21204107264.0000\n",
      "Epoch 11/32\n",
      "50/50 [==============================] - 0s 4ms/step - loss: 18067548160.0000 - mse: 18067548160.0000 - val_loss: 19370754048.0000 - val_mse: 19370754048.0000\n",
      "Epoch 12/32\n",
      "50/50 [==============================] - 0s 4ms/step - loss: 16527869952.0000 - mse: 16527869952.0000 - val_loss: 18110171136.0000 - val_mse: 18110171136.0000\n",
      "Epoch 13/32\n",
      "50/50 [==============================] - 0s 5ms/step - loss: 15613876224.0000 - mse: 15613876224.0000 - val_loss: 17399955456.0000 - val_mse: 17399955456.0000\n",
      "Epoch 14/32\n",
      "50/50 [==============================] - 0s 6ms/step - loss: 15174377472.0000 - mse: 15174377472.0000 - val_loss: 16976226304.0000 - val_mse: 16976226304.0000\n",
      "Epoch 15/32\n",
      "50/50 [==============================] - 0s 5ms/step - loss: 14956959744.0000 - mse: 14956959744.0000 - val_loss: 16823862272.0000 - val_mse: 16823862272.0000\n",
      "Epoch 16/32\n",
      "50/50 [==============================] - 0s 4ms/step - loss: 14874887168.0000 - mse: 14874887168.0000 - val_loss: 16711615488.0000 - val_mse: 16711615488.0000\n",
      "Epoch 17/32\n",
      "50/50 [==============================] - 0s 4ms/step - loss: 14818906112.0000 - mse: 14818906112.0000 - val_loss: 16632846336.0000 - val_mse: 16632846336.0000\n",
      "Epoch 18/32\n",
      "50/50 [==============================] - 0s 4ms/step - loss: 14785192960.0000 - mse: 14785192960.0000 - val_loss: 16585509888.0000 - val_mse: 16585509888.0000\n",
      "Epoch 19/32\n",
      "50/50 [==============================] - 0s 4ms/step - loss: 14753272832.0000 - mse: 14753272832.0000 - val_loss: 16547049472.0000 - val_mse: 16547049472.0000\n",
      "Epoch 20/32\n",
      "50/50 [==============================] - 0s 4ms/step - loss: 14732549120.0000 - mse: 14732549120.0000 - val_loss: 16506144768.0000 - val_mse: 16506144768.0000\n",
      "Epoch 21/32\n",
      "50/50 [==============================] - 0s 4ms/step - loss: 14702754816.0000 - mse: 14702754816.0000 - val_loss: 16485177344.0000 - val_mse: 16485177344.0000\n",
      "Epoch 22/32\n",
      "50/50 [==============================] - 0s 4ms/step - loss: 14672755712.0000 - mse: 14672755712.0000 - val_loss: 16448418816.0000 - val_mse: 16448418816.0000\n",
      "Epoch 23/32\n",
      "50/50 [==============================] - 0s 4ms/step - loss: 14640957440.0000 - mse: 14640957440.0000 - val_loss: 16431555584.0000 - val_mse: 16431555584.0000\n",
      "Epoch 24/32\n",
      "50/50 [==============================] - 0s 4ms/step - loss: 14613764096.0000 - mse: 14613764096.0000 - val_loss: 16403869696.0000 - val_mse: 16403869696.0000\n",
      "Epoch 25/32\n",
      "50/50 [==============================] - 0s 4ms/step - loss: 14598170624.0000 - mse: 14598170624.0000 - val_loss: 16372432896.0000 - val_mse: 16372432896.0000\n",
      "Epoch 26/32\n",
      "50/50 [==============================] - 0s 4ms/step - loss: 14561341440.0000 - mse: 14561341440.0000 - val_loss: 16335411200.0000 - val_mse: 16335411200.0000\n",
      "Epoch 27/32\n",
      "50/50 [==============================] - 0s 4ms/step - loss: 14535560192.0000 - mse: 14535560192.0000 - val_loss: 16320456704.0000 - val_mse: 16320456704.0000\n",
      "Epoch 28/32\n",
      "50/50 [==============================] - 0s 4ms/step - loss: 14496847872.0000 - mse: 14496847872.0000 - val_loss: 16262951936.0000 - val_mse: 16262951936.0000\n",
      "Epoch 29/32\n",
      "50/50 [==============================] - 0s 4ms/step - loss: 14474650624.0000 - mse: 14474650624.0000 - val_loss: 16241183744.0000 - val_mse: 16241183744.0000\n",
      "Epoch 30/32\n",
      "50/50 [==============================] - 0s 4ms/step - loss: 14443666432.0000 - mse: 14443666432.0000 - val_loss: 16203720704.0000 - val_mse: 16203720704.0000\n",
      "Epoch 31/32\n",
      "50/50 [==============================] - 0s 4ms/step - loss: 14420436992.0000 - mse: 14420436992.0000 - val_loss: 16192137216.0000 - val_mse: 16192137216.0000\n",
      "Epoch 32/32\n",
      "50/50 [==============================] - 0s 4ms/step - loss: 14386581504.0000 - mse: 14386581504.0000 - val_loss: 16157665280.0000 - val_mse: 16157665280.0000\n"
     ]
    }
   ],
   "source": [
    "# Model create\n",
    "feature_layer = tf.keras.layers.DenseFeatures(feature_columns,\n",
    "                                              dtype='float64')\n",
    "\n",
    "model = tf.keras.Sequential([\n",
    "  feature_layer,\n",
    "  layers.Dense(12, input_dim=8, activation='relu'),\n",
    "  layers.Dense(8, activation='relu'),\n",
    "  layers.Dense(1, activation='linear',  name='median_house_value')\n",
    "])\n",
    "\n",
    "# Model compile\n",
    "model.compile(optimizer='adam',\n",
    "              loss='mse',\n",
    "              metrics=['mse'])\n",
    "\n",
    "# Model Fit\n",
    "history = model.fit(train_ds,\n",
    "                    validation_data=val_ds,\n",
    "                    epochs=32)"
   ]
  },
  {
   "cell_type": "markdown",
   "metadata": {
    "colab_type": "text",
    "id": "3LdUQszM16Oj"
   },
   "source": [
    "Next, we show loss and mean squared error then plot the model."
   ]
  },
  {
   "cell_type": "code",
   "execution_count": 99,
   "metadata": {
    "colab": {
     "base_uri": "https://localhost:8080/",
     "height": 71
    },
    "colab_type": "code",
    "id": "ZtFSpkd9UoAW",
    "outputId": "bac4836e-c4f1-4b29-876d-91fe1b51a5a7",
    "tags": []
   },
   "outputs": [
    {
     "name": "stdout",
     "output_type": "stream",
     "text": [
      "50/50 [==============================] - 0s 2ms/step - loss: 14360782848.0000 - mse: 14360782848.0000\n",
      "Mean Squared Error 14360782848.0\n"
     ]
    }
   ],
   "source": [
    "loss, mse = model.evaluate(train_ds)\n",
    "print(\"Mean Squared Error\", mse)"
   ]
  },
  {
   "cell_type": "code",
   "execution_count": 100,
   "metadata": {
    "colab": {
     "base_uri": "https://localhost:8080/",
     "height": 350
    },
    "colab_type": "code",
    "id": "O8kWMa6xUn-M",
    "outputId": "05ed9323-1102-4245-a40b-88543f11b0f3",
    "tags": []
   },
   "outputs": [
    {
     "data": {
      "image/png": "[encoded data removed]",
      "text/plain": [
       "<Figure size 1000x500 with 2 Axes>"
      ]
     },
     "metadata": {},
     "output_type": "display_data"
    }
   ],
   "source": [
    "plot_curves(history, ['loss', 'mse'])"
   ]
  },
  {
   "cell_type": "markdown",
   "metadata": {
    "colab_type": "text",
    "id": "C4tWwOQt2e-P"
   },
   "source": [
    "Next we create a prediction model.  Note:  You may use the same values from the previous prediciton.  "
   ]
  },
  {
   "cell_type": "code",
   "execution_count": null,
   "metadata": {},
   "outputs": [],
   "source": [
    "# TODO 2e -- Your code here\n"
   ]
  },
  {
   "cell_type": "markdown",
   "metadata": {
    "colab_type": "text",
    "id": "rcbdA3arXkej"
   },
   "source": [
    "### Analysis \n",
    "\n",
    "The array returns a predicted value.  Compare this value to the test set you ran earlier. Your predicted value may be a bit better.\n",
    "\n",
    "Now that you have your \"feature engineering template\" setup, you can experiment by creating additional features.  For example, you can create derived features, such as households per population, and see how they impact the model.  You can also experiment with replacing the features you used to create the feature cross.\n",
    " "
   ]
  },
  {
   "cell_type": "markdown",
   "metadata": {},
   "source": [
    "Copyright 2022 Google Inc.\n",
    "Licensed under the Apache License, Version 2.0 (the \"License\"); you may not use this file except in compliance with the License. You may obtain a copy of the License at\n",
    "http://www.apache.org/licenses/LICENSE-2.0\n",
    "Unless required by applicable law or agreed to in writing, software distributed under the License is distributed on an \"AS IS\" BASIS, WITHOUT WARRANTIES OR CONDITIONS OF ANY KIND, either express or implied. See the License for the specific language governing permissions and limitations under the License."
   ]
  }
 ],
 "metadata": {
  "colab": {
   "collapsed_sections": [],
   "name": "Basic Feature Engineering in Keras.ipynb",
   "provenance": [],
   "toc_visible": true
  },
  "environment": {
   "kernel": "conda-env-tensorflow-tensorflow",
   "name": "workbench-notebooks.m125",
   "type": "gcloud",
   "uri": "us-docker.pkg.dev/deeplearning-platform-release/gcr.io/workbench-notebooks:m125"
  },
  "kernelspec": {
   "display_name": "TensorFlow 2-11 (Local)",
   "language": "python",
   "name": "conda-env-tensorflow-tensorflow"
  },
  "language_info": {
   "codemirror_mode": {
    "name": "ipython",
    "version": 3
   },
   "file_extension": ".py",
   "mimetype": "text/x-python",
   "name": "python",
   "nbconvert_exporter": "python",
   "pygments_lexer": "ipython3",
   "version": "3.10.15"
  }
 },
 "nbformat": 4,
 "nbformat_minor": 4
}
